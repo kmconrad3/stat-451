{
 "cells": [
  {
   "cell_type": "markdown",
   "id": "8163daf4",
   "metadata": {},
   "source": [
    "# HW02: Practice with logistic regression and decision tree\n",
    "\n",
    "Kara Conrad, 9082326472"
   ]
  },
  {
   "cell_type": "markdown",
   "id": "4fdedd9b",
   "metadata": {},
   "source": [
    "## Hello Students:\n",
    "\n",
    "- Start by downloading HW02.ipynb from this folder. Then develop it into your solution.\n",
    "- Write code where you see \"... your code here ...\" below.\n",
    "  (You are welcome to use more than one cell.)\n",
    "- If you have questions, please ask them in class, office hours, or piazza. Our TA\n",
    "  and I are very happy to help with the programming (provided you start early\n",
    "  enough, and provided we are not helping so much that we undermine your learning).\n",
    "- When you are done, run these Notebook commands:\n",
    "  - Shift-L (once, so that line numbers are visible)\n",
    "  - Kernel > Restart and Run All (run all cells from scratch)\n",
    "  - Esc S (save)\n",
    "  - File > Download as > HTML\n",
    "- Turn in:\n",
    "  - HW02.ipynb to Canvas's HW02.ipynb assignment\n",
    "  - HW02.html to Canvas's HW02.html assignment\n",
    "  - As a check, download your files from Canvas to a new 'junk' folder. Try 'Kernel > Restart\n",
    "  and Run All' on the '.ipynb' file to make sure it works. Glance through the '.html' file.\n",
    "- Turn in partial solutions to Canvas before the deadline. e.g. Turn in part 1,\n",
    "  then parts 1 and 2, then your whole solution. That way we can award partial credit\n",
    "  even if you miss the deadline. We will grade your last submission before the deadline."
   ]
  },
  {
   "cell_type": "code",
   "execution_count": 1,
   "id": "f6a87448",
   "metadata": {},
   "outputs": [],
   "source": [
    "import numpy as np\n",
    "import pandas as pd\n",
    "import matplotlib.pyplot as plt\n",
    "from sklearn import linear_model\n",
    "from sklearn.tree import DecisionTreeClassifier\n",
    "from sklearn import tree"
   ]
  },
  {
   "cell_type": "markdown",
   "id": "f90946b9",
   "metadata": {},
   "source": [
    "# 1. Logistic regression"
   ]
  },
  {
   "cell_type": "markdown",
   "id": "0c5d8fa5",
   "metadata": {},
   "source": [
    "# 1a. Make a logistic regression model\n",
    "relating the probability an iris has Species='virginica' to its 'Petal.Length'\n",
    "and classifying irises as 'virginica' or not 'virginica' (i.e. 'versicolor').\n",
    "- Read [http://www.stat.wisc.edu/~jgillett/451/data/iris.csv](http://www.stat.wisc.edu/~jgillett/451/data/iris.csv) into a DataFrame.\n",
    "- Make a second data frame that excludes the 'setosa' rows (leaving the 'virginica' and 'versicolor' rows) and includes only the Petal.Length and Species columns.\n",
    "- Use `linear_model.LogisticRegression(C=1000)` so we all get the same results (they vary with `C`).\n",
    "- Train the model using $X=$ petal length and $y=$ whether the Species is 'virginica'.\n",
    "  (I used \"y = (df['Species'] == 'virginica').to_numpy().astype(int)\",\n",
    "  which sets y to zeros and ones.)\n",
    "- Report its accuracy on the training data.\n",
    "- Report the estimated P(Species=virginica | Petal.Length=5).\n",
    "- Report the predicited Species for Petal.Length=5.\n",
    "- Make a plot showing:\n",
    "  - the data points\n",
    "  - the estimated logistic curve\n",
    "  - and what I have called the \"sample proportion\" of y == 1 at each unique Petal.Length value\n",
    "  - a legend and title and other labels necessary to make the plot easy to read"
   ]
  },
  {
   "cell_type": "code",
   "execution_count": 2,
   "id": "248a1006",
   "metadata": {},
   "outputs": [
    {
     "name": "stdout",
     "output_type": "stream",
     "text": [
      "The model's accuracy is 0.93.\n",
      "The probability of a flower with petal length 5 being a virginica is [0.7725422].\n",
      "With petal length of 5, the prediction is one which is Virginica.\n"
     ]
    },
    {
     "data": {
      "text/plain": [
       "<matplotlib.legend.Legend at 0x7f981d206dc0>"
      ]
     },
     "execution_count": 2,
     "metadata": {},
     "output_type": "execute_result"
    },
    {
     "data": {
      "image/png": "[encoded data removed]",
      "text/plain": [
       "<Figure size 432x288 with 1 Axes>"
      ]
     },
     "metadata": {
      "needs_background": "light"
     },
     "output_type": "display_data"
    }
   ],
   "source": [
    "df = pd.read_csv(\"http://www.stat.wisc.edu/~jgillett/451/data/iris.csv\")\n",
    "df2 = df[df.Species!=\"setosa\"].drop([\"Sepal.Length\", \"Sepal.Width\", \"Petal.Width\"], axis=1)\n",
    "model = linear_model.LogisticRegression(C=1000)\n",
    "X = np.array(df2[[\"Petal.Length\"]])\n",
    "Y = (df2['Species'] == 'virginica').to_numpy().astype(int)\n",
    "model.fit(X, Y)\n",
    "\n",
    "print(f'The model\\'s accuracy is {model.score(X, Y)}.')\n",
    "\n",
    "print(f'The probability of a flower with petal length 5 being a virginica is {model.predict_proba([[5]])[:, 1]}.')\n",
    "\n",
    "model.predict([[5]])\n",
    "print(\"With petal length of 5, the prediction is one which is Virginica.\")\n",
    "\n",
    "\n",
    "plt.plot(X, Y, 'o', label = \"data points\")\n",
    "plt.title(\"Flower type vs. Petal length\")\n",
    "xplot = np.linspace(start=3, stop=7.5)\n",
    "yplot = 1 / (1 + np.exp(-(model.coef_[0] * xplot + model.intercept_)))\n",
    "plt.plot(xplot, yplot, label=r'logistic curve $\\hat{P}(y = 1)$')\n",
    "\n",
    "x_values, x_counts = np.unique(X, return_counts=True)\n",
    "n_x_values = x_values.shape[0]\n",
    "success_proportion_per_x_value = np.zeros(n_x_values)\n",
    "for i in np.arange(n_x_values):\n",
    "    success_proportion_per_x_value[i] = np.sum(Y[X[:, 0] == x_values[i]]) / x_counts[i]\n",
    "plt.plot(x_values, success_proportion_per_x_value, '.', color='red',\n",
    "         label='sample proportions')\n",
    "plt.legend()"
   ]
  },
  {
   "cell_type": "markdown",
   "id": "bac5562e",
   "metadata": {},
   "source": [
    "## 1b. Do some work with logistic regression by hand.\n",
    "Consider the logistic regression model, $P(y\n",
    "_i = 1) = \\frac{1}{1 + e^{-(\\mathbf{w x} + b)}}\\,.$\n",
    "\n",
    "Logistic regression is named after the log-odds of success, $\\ln\n",
    "  \\frac{p}{1 - p}$, where $p = P(y_i = 1)$. Show that this log-odds\n",
    "  equals $\\mathbf{w x} + b$. (That is, start with $\\ln\n",
    "  \\frac{p}{1 - p}$ and connect it in a series of equalities to $\\mathbf{w x} + b$.)\n",
    "  "
   ]
  },
  {
   "cell_type": "markdown",
   "id": "cbc0b73b",
   "metadata": {},
   "source": [
    "### $\\begin{align*} % In this Latex context, \"&\" separates columns and \"\\\\\" ends a line. \n",
    "  \\ln \\frac{p}{1 - p} &= \\ln \\frac{1}{1 + e^{-(w x + b)}} - \\ln \\frac{1}{1 - \\frac{1}{1 + e^{-(w x + b)}}} \\\\ &= \\ln \\frac{e^{w x + b}}{1 + e^{w x + b}} - \\ln \\frac{1 + e^{-(w x + b)}}{e^{-(w x + b)}} \\\\ &= \\ln \\frac{1 + e^{w x + b} - 1}{1 + e^{w x + b}} - \\ln \\frac{1}{1 + e^{w x + b}} \\\\ &= \\ln \\frac{1 + e^{w x + b}}{e^{w x + b}} - \\ln \\frac{1 + e^{w x + b}}{1} \\\\ &= w x + b \\end{align*}$"
   ]
  },
  {
   "cell_type": "markdown",
   "id": "b9e79535",
   "metadata": {},
   "source": [
    "### 1c. Do some more work with logistic regression by hand.\n",
    "\n",
    "I ran some Python/scikit-learn code to make the model pictured here: ![](toyLogistic.png)\n",
    "\n",
    "From the image and without the help of running code, match each code line from the top list with its output from the bottom list.\n",
    "\n",
    "1. `model.intercept_`\n",
    "2. `model.coef_`\n",
    "3. `model.predict(X)`\n",
    "4. `model.predict_proba(X)[:, 1]`\n",
    "\n",
    "A. `array([0, 0, 0, 1])`,\n",
    "B. `array([0.003, 0.5, 0.5, 0.997])`,\n",
    "C. `array([5.832])`,\n",
    "D. `array([0.])`"
   ]
  },
  {
   "cell_type": "markdown",
   "id": "66cd9caf",
   "metadata": {},
   "source": [
    "## 1:D, 2:C, 3:A, 4:B"
   ]
  },
  {
   "cell_type": "markdown",
   "id": "a82c49b8",
   "metadata": {},
   "source": [
    "## 2a. Make a decision tree model on a Titanic data set.\n",
    "Read the data from [http://www.stat.wisc.edu/~jgillett/451/data/kaggle_titanic_train.csv](http://www.stat.wisc.edu/~jgillett/451/data/kaggle_titanic_train.csv).\n",
    "\n",
    "These data are described at [https://www.kaggle.com/competitions/titanic/data](https://www.kaggle.com/competitions/titanic/data) (click on the small down-arrow to see the \"Data Dictionary\"), which is where they are from.\n",
    "\n",
    "- Retain only the Survived, Pclass, Sex, and Age columns.\n",
    "- Display the  first seven rows (passengers).\n",
    "  Notice that the Age column includes NaN, indicating a missing value.\n",
    "- Drop rows with missing data via `df.dropna()`. Display your data frame's shape before\n",
    "  and after dropping rows. (It should be (714, 4) after dropping rows.)\n",
    "- Add a column called 'Female' that indicates whether a passenger is Female. You can make this column via `df.Sex == 'female'`. This gives bool values True and False, which are interpreted as 1 and 0 when used in an arithmetic context.\n",
    "- Train a decision tree with `max_depth=None` to decided whether a passenger\n",
    "  `Survived` from the other three columns. Report its accuracy (with 3 decimal places)\n",
    "  on training data along with the tree's depth (which is available in `clf.tree_.max_depth`).\n",
    "- Train another tree with `max_depth=2`. Report its accuracy (with 3 decimal places).\n",
    "  Use `tree.plot_tree()` to display it, including feature_names to make the tree easy to read."
   ]
  },
  {
   "cell_type": "markdown",
   "id": "006bb6a9",
   "metadata": {},
   "source": [
    "# 2. Decision tree"
   ]
  },
  {
   "cell_type": "code",
   "execution_count": 3,
   "id": "c8c242d6",
   "metadata": {},
   "outputs": [
    {
     "name": "stdout",
     "output_type": "stream",
     "text": [
      "Tree 1-- The accuracy score is: 0.896. And the tree's depth is: 15.\n",
      "Tree 2-- The accuracy score is: 0.791.\n"
     ]
    },
    {
     "data": {
      "image/png": "[encoded data removed]",
      "text/plain": [
       "<Figure size 432x288 with 1 Axes>"
      ]
     },
     "metadata": {
      "needs_background": "light"
     },
     "output_type": "display_data"
    }
   ],
   "source": [
    "df = pd.read_csv(\"http://www.stat.wisc.edu/~jgillett/451/data/kaggle_titanic_train.csv\")\n",
    "df = df[[\"Survived\", \"Pclass\", \"Sex\", \"Age\"]]\n",
    "df.head(7)\n",
    "df = df.dropna()\n",
    "df[\"Female\"] = df.Sex == 'female'\n",
    "\n",
    "feature_names = [\"Pclass\", \"Female\", \"Age\"]\n",
    "X = df[feature_names]\n",
    "Y = df.Survived\n",
    "\n",
    "clf = DecisionTreeClassifier(criterion='entropy', max_depth=None, min_impurity_decrease=0)\n",
    "clf.fit(X, Y)\n",
    "print(f'Tree 1-- The accuracy score is: {clf.score(X,Y).round(3)}. And the tree\\'s depth is: {clf.tree_.max_depth}.')\n",
    "\n",
    "clf2 = DecisionTreeClassifier(criterion='entropy', max_depth=2, min_impurity_decrease=0)\n",
    "clf2.fit(X, Y)\n",
    "print(f'Tree 2-- The accuracy score is: {clf2.score(X,Y).round(3)}.')\n",
    "_ = tree.plot_tree(clf2, feature_names=feature_names, filled=True)"
   ]
  },
  {
   "cell_type": "markdown",
   "id": "92388657",
   "metadata": {},
   "source": [
    "## 2b. Which features are used in the (max_depth=2) decision-making? Answer in a markdown cell."
   ]
  },
  {
   "cell_type": "markdown",
   "id": "b6f1357d",
   "metadata": {},
   "source": [
    "The features used in this tree where weather the passanger was female or not (Female column) and their class (Pclass)."
   ]
  },
  {
   "cell_type": "markdown",
   "id": "aa128a8c",
   "metadata": {},
   "source": [
    " ## 2c. What proportion (in the cleaned-up data) of females survived? What proportion of males survived?\n",
    " Answer in two sentences via print(), with each proportion rounded to three decimal places.\n",
    " \n",
    " Hint: There are many ways to do this. One quick way is to find the average of the `Female`\n",
    " column for each subset."
   ]
  },
  {
   "cell_type": "code",
   "execution_count": 4,
   "id": "700852b6",
   "metadata": {},
   "outputs": [
    {
     "name": "stdout",
     "output_type": "stream",
     "text": [
      "Female survival proportion: 0.755. Male survival proportion: 0.205.\n"
     ]
    }
   ],
   "source": [
    "fem = len(df[ (df.Female==1) & (df.Survived==1) ])/df.Female.sum()\n",
    "male = len(df[ (df.Female==0) & (df.Survived==1) ])/(714-df.Female.sum())\n",
    "print(f'Female survival proportion: {fem.round(3)}. Male survival proportion: {male.round(3)}.')"
   ]
  },
  {
   "cell_type": "markdown",
   "id": "8fee52c3",
   "metadata": {},
   "source": [
    "## 2d. Do some decision tree calculations by hand.\n",
    "Consider a decision tree node containing the following set of examples $S =\n",
    "\\{(\\mathbf{x}, y)\\}$ where $\\mathbf{x} = (x_1, x_2)$:\n",
    "\n",
    "((4, 9), 1)\n",
    "\n",
    "((2, 6), 0)\n",
    "\n",
    "((5, 7), 0)\n",
    "\n",
    "((3, 8), 1)\n",
    "\n",
    "Find the entropy of $S$."
   ]
  },
  {
   "cell_type": "code",
   "execution_count": 5,
   "id": "ec2190c9",
   "metadata": {},
   "outputs": [
    {
     "data": {
      "text/plain": [
       "1.0"
      ]
     },
     "execution_count": 5,
     "metadata": {},
     "output_type": "execute_result"
    }
   ],
   "source": [
    "p1 = (1/4)*2\n",
    "entr = -p1*np.log2(p1)-(1-p1)*np.log2(1-p1)\n",
    "entr"
   ]
  },
  {
   "cell_type": "markdown",
   "id": "0e8d742b",
   "metadata": {},
   "source": [
    "Then entropy of the set S is 1.0. The equation I used: −fID3(S)log2(fID3(S))-(1-fID3(S))log2(1-fID3(S)). fID3 is the proportion of 1 values in S."
   ]
  },
  {
   "cell_type": "markdown",
   "id": "62982e16",
   "metadata": {},
   "source": [
    " ## 2e. Do some more decision tree calculations by hand.\n",
    "Find a (feature, threshold) pair that yields the best split for this node."
   ]
  },
  {
   "cell_type": "markdown",
   "id": "fa368d79",
   "metadata": {},
   "source": [
    "(x1 & x2 are features to chose from to minimize weighted average entropy)\n",
    "\n",
    "by x1\n",
    "2, 6 :0\n",
    "3, 8 :1\n",
    "4, 9 :1\n",
    "5, 7 :0\n",
    "\n",
    "by x2\n",
    "2, 6 :0\n",
    "5, 7 :0\n",
    "3, 8 :1\n",
    "4, 9 :1\n",
    "\n",
    "want to split by x2 because we want a pure node\n",
    "\n",
    "best split at: (x2, 7.5)"
   ]
  },
  {
   "cell_type": "code",
   "execution_count": null,
   "id": "50198184",
   "metadata": {},
   "outputs": [],
   "source": []
  }
 ],
 "metadata": {
  "celltoolbar": "Tags",
  "kernelspec": {
   "display_name": "Python 3 (ipykernel)",
   "language": "python",
   "name": "python3"
  },
  "language_info": {
   "codemirror_mode": {
    "name": "ipython",
    "version": 3
   },
   "file_extension": ".py",
   "mimetype": "text/x-python",
   "name": "python",
   "nbconvert_exporter": "python",
   "pygments_lexer": "ipython3",
   "version": "3.9.12"
  }
 },
 "nbformat": 4,
 "nbformat_minor": 5
}
