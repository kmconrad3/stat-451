{
 "cells": [
  {
   "cell_type": "code",
   "execution_count": 1,
   "id": "a1674801",
   "metadata": {
    "scrolled": true
   },
   "outputs": [],
   "source": [
    "import numpy as np"
   ]
  },
  {
   "cell_type": "code",
   "execution_count": 2,
   "id": "1c639c20",
   "metadata": {
    "scrolled": true
   },
   "outputs": [],
   "source": [
    "A = np.array([4, 1, 3, 2]) ##1"
   ]
  },
  {
   "cell_type": "code",
   "execution_count": 3,
   "id": "d2198b47",
   "metadata": {
    "scrolled": true
   },
   "outputs": [],
   "source": [
    "A = np.arange(0,100,10) ##2"
   ]
  },
  {
   "cell_type": "code",
   "execution_count": 4,
   "id": "df50164b",
   "metadata": {
    "scrolled": true
   },
   "outputs": [],
   "source": [
    "A = np.linspace(0,1,11) ##3"
   ]
  },
  {
   "cell_type": "code",
   "execution_count": 5,
   "id": "adb6245a",
   "metadata": {
    "scrolled": true
   },
   "outputs": [
    {
     "data": {
      "text/plain": [
       "array([False,  True, False])"
      ]
     },
     "execution_count": 5,
     "metadata": {},
     "output_type": "execute_result"
    }
   ],
   "source": [
    "A = np.array([3, -2, 4]) ##4\n",
    "B = A<0\n",
    "B"
   ]
  },
  {
   "cell_type": "code",
   "execution_count": 6,
   "id": "fcdd9e42",
   "metadata": {
    "scrolled": true
   },
   "outputs": [
    {
     "data": {
      "text/plain": [
       "array([ 0,  2,  6,  9, 15, 18, 20, 24, 32, 33, 37, 42, 46, 48, 49, 51, 57,\n",
       "       58, 59, 60, 71, 72, 75, 76, 79, 84, 89, 93, 94, 98])"
      ]
     },
     "execution_count": 6,
     "metadata": {},
     "output_type": "execute_result"
    }
   ],
   "source": [
    "data = np.array([24,57,76,2,79,59,71,75,51,20,93,6,9,58,98,84,0,33,46,60,15,89,48,94,37,42,18,32,49,72]) ##5\n",
    "np.sort(data)"
   ]
  },
  {
   "cell_type": "code",
   "execution_count": 7,
   "id": "5c521756",
   "metadata": {
    "scrolled": true
   },
   "outputs": [
    {
     "data": {
      "text/plain": [
       "16"
      ]
     },
     "execution_count": 7,
     "metadata": {},
     "output_type": "execute_result"
    }
   ],
   "source": [
    "np.argmin(data) ##6"
   ]
  },
  {
   "cell_type": "code",
   "execution_count": 8,
   "id": "5b12064b",
   "metadata": {
    "scrolled": true
   },
   "outputs": [
    {
     "data": {
      "text/plain": [
       "array([98, 94, 93, 89, 84, 79, 76, 75, 72, 71, 60, 59, 58, 57, 51, 49, 48,\n",
       "       46, 42, 37, 33, 32, 24, 20, 18, 15,  9,  6,  2,  0])"
      ]
     },
     "execution_count": 8,
     "metadata": {},
     "output_type": "execute_result"
    }
   ],
   "source": [
    "np.flip(np.sort(data)).copy() ##7"
   ]
  },
  {
   "cell_type": "code",
   "execution_count": 9,
   "id": "9c339d5d",
   "metadata": {
    "scrolled": true
   },
   "outputs": [
    {
     "data": {
      "text/plain": [
       "8"
      ]
     },
     "execution_count": 9,
     "metadata": {},
     "output_type": "execute_result"
    }
   ],
   "source": [
    "np.sum(np.sort(data)[0:3]) ##8"
   ]
  },
  {
   "cell_type": "code",
   "execution_count": 10,
   "id": "603d2f4b",
   "metadata": {
    "scrolled": true
   },
   "outputs": [
    {
     "data": {
      "text/plain": [
       "30"
      ]
     },
     "execution_count": 10,
     "metadata": {},
     "output_type": "execute_result"
    }
   ],
   "source": [
    "np.sum(np.argsort( data )[0:3]) ##9"
   ]
  },
  {
   "cell_type": "code",
   "execution_count": 11,
   "id": "1270ec6a",
   "metadata": {
    "scrolled": true
   },
   "outputs": [
    {
     "data": {
      "text/plain": [
       "219"
      ]
     },
     "execution_count": 11,
     "metadata": {},
     "output_type": "execute_result"
    }
   ],
   "source": [
    "subset = np.array([17,64,42,59,54,27,56,30,61,24,94,96,64,85,0]) ##11\n",
    "np.sum(data[np.isin(data, subset)])"
   ]
  },
  {
   "cell_type": "code",
   "execution_count": 12,
   "id": "27bac82e",
   "metadata": {
    "scrolled": true
   },
   "outputs": [
    {
     "ename": "NameError",
     "evalue": "name 'y' is not defined",
     "output_type": "error",
     "traceback": [
      "\u001b[0;31m---------------------------------------------------------------------------\u001b[0m",
      "\u001b[0;31mNameError\u001b[0m                                 Traceback (most recent call last)",
      "Input \u001b[0;32mIn [12]\u001b[0m, in \u001b[0;36m<cell line: 1>\u001b[0;34m()\u001b[0m\n\u001b[0;32m----> 1\u001b[0m SSE \u001b[38;5;241m=\u001b[39m np\u001b[38;5;241m.\u001b[39msum( (\u001b[43my\u001b[49m\u001b[38;5;241m-\u001b[39ma\u001b[38;5;241m-\u001b[39mb\u001b[38;5;241m*\u001b[39mx)\u001b[38;5;241m*\u001b[39m\u001b[38;5;241m*\u001b[39m\u001b[38;5;241m2\u001b[39m )\n",
      "\u001b[0;31mNameError\u001b[0m: name 'y' is not defined"
     ]
    }
   ],
   "source": [
    "SSE = np.sum( (y-a-b*x)**2 ) ##12"
   ]
  },
  {
   "cell_type": "code",
   "execution_count": 13,
   "id": "74166062",
   "metadata": {
    "scrolled": true
   },
   "outputs": [
    {
     "data": {
      "text/plain": [
       "714"
      ]
     },
     "execution_count": 13,
     "metadata": {},
     "output_type": "execute_result"
    }
   ],
   "source": [
    "data.shape ##13\n",
    "np.sum( data[np.arange(0,30,2)] ) "
   ]
  },
  {
   "cell_type": "code",
   "execution_count": 14,
   "id": "a51cbeef",
   "metadata": {
    "scrolled": true
   },
   "outputs": [
    {
     "data": {
      "text/plain": [
       "780"
      ]
     },
     "execution_count": 14,
     "metadata": {},
     "output_type": "execute_result"
    }
   ],
   "source": [
    "np.sum(data[data%2==0]) ##14"
   ]
  },
  {
   "cell_type": "code",
   "execution_count": 19,
   "id": "640504e0",
   "metadata": {
    "scrolled": true
   },
   "outputs": [
    {
     "data": {
      "text/plain": [
       "53"
      ]
     },
     "execution_count": 19,
     "metadata": {},
     "output_type": "execute_result"
    }
   ],
   "source": [
    "#np.sum(data[data>10 & data<20])\n",
    "#np.all(10<data<20)\n",
    "#np.sum( data[np.isin(data[data<20], data[data>10])] )\n",
    "#data[np.isin(data[data<20], data[data>10])]\n",
    "\n",
    "15+18+20"
   ]
  },
  {
   "cell_type": "code",
   "execution_count": 33,
   "id": "2e45d8ef",
   "metadata": {
    "scrolled": true
   },
   "outputs": [
    {
     "data": {
      "text/plain": [
       "14"
      ]
     },
     "execution_count": 33,
     "metadata": {},
     "output_type": "execute_result"
    }
   ],
   "source": [
    "ham = np.loadtxt(\"Hamlet.txt\", dtype='str') #[13645:13907]\n",
    "np.sum(np.isin(ham,\"nature\"))"
   ]
  },
  {
   "cell_type": "code",
   "execution_count": null,
   "id": "ea74908a",
   "metadata": {},
   "outputs": [],
   "source": []
  }
 ],
 "metadata": {
  "kernelspec": {
   "display_name": "Python 3 (ipykernel)",
   "language": "python",
   "name": "python3"
  },
  "language_info": {
   "codemirror_mode": {
    "name": "ipython",
    "version": 3
   },
   "file_extension": ".py",
   "mimetype": "text/x-python",
   "name": "python",
   "nbconvert_exporter": "python",
   "pygments_lexer": "ipython3",
   "version": "3.9.12"
  }
 },
 "nbformat": 4,
 "nbformat_minor": 5
}
