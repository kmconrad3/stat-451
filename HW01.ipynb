{
 "cells": [
  {
   "cell_type": "markdown",
   "id": "25842d74",
   "metadata": {},
   "source": [
    "# HW1: Practice with Python, hard-margin SVM, and linear regression"
   ]
  },
  {
   "cell_type": "markdown",
   "id": "6261349e",
   "metadata": {},
   "source": [
    "## Kara Conrad, 9082326472"
   ]
  },
  {
   "cell_type": "markdown",
   "id": "f7e457d2",
   "metadata": {},
   "source": [
    "Hello Students:\n",
    "\n",
    "- Start by downloading HW1.ipynb from this folder. Then develop it into your solution.\n",
    "- Write code where you see \"... your code here ...\" below.\n",
    "  (You are welcome to use more than one cell.)\n",
    "- I've included the output from my solution in HW1.html so you can check your\n",
    "  work. Your output should match or be close to mine. Use 3 significant\n",
    "  figures for floats. e.g. We can print 3 figures for 𝜋/1000 as\n",
    "  print(f'{np.pi/1000:.3}'). The pattern is print(f'{x:.precision}'),\n",
    "  where x is the value to print and precision is the number of figures.\n",
    "- If you have questions, please ask them in class or office hours. Our TA\n",
    "  and I are very happy to help with the programming (provided you start early\n",
    "  enough, and provided we are not helping so much that we undermine your learning).\n",
    "- Please clean up your code:\n",
    "  - Comment out unnecessary code that is useful for orienting you, like printing the data set.\n",
    "  - Label your output, like writing 'weight=20.1' or 'The weight is 20.1' rather than just '20.1'.\n",
    "  - Simplify your code if you can.\n",
    "- When you are done, run these Notebook commands:\n",
    "  - Shift-L (once, so that line numbers are visible)\n",
    "  - Kernel > Restart and Run All (run all cells from scratch)\n",
    "  - Esc S (save)\n",
    "  - File > Download as > HTML\n",
    "- Turn in:\n",
    "  - HW01.ipynb to Canvas's HW01.ipynb assignment\n",
    "  - HW01.html to Canvas's HW01.html assignment\n",
    "  - As a check, download your files from Canvas to a new 'junk' folder. Try 'Kernel > Restart\n",
    "  and Run All' on the '.ipynb' file to make sure it works. Glance through the '.html' file.\n",
    "- Turn in partial solutions to Canvas before the deadline. e.g. Turn in part 1,\n",
    "  then parts 1 and 2a, then your whole solution. That way we can award partial credit\n",
    "  even if you miss the deadline. We will grade your last submission before the deadline."
   ]
  },
  {
   "cell_type": "code",
   "execution_count": 22,
   "id": "f1b234d4",
   "metadata": {},
   "outputs": [],
   "source": [
    "import numpy as np\n",
    "import pandas as pd\n",
    "import matplotlib.pyplot as plt\n",
    "\n",
    "from sklearn import svm, linear_model"
   ]
  },
  {
   "cell_type": "markdown",
   "id": "d991636c",
   "metadata": {},
   "source": [
    "# 1. Use a hard-margin SVM\n",
    " to classify cars as having automatic or manual transmissions.\n",
    "- Read [http://www.stat.wisc.edu/~jgillett/451/01/mtcars30.csv](http://www.stat.wisc.edu/~jgillett/451/01/mtcars30.csv) into a DataFrame. (This is the mtcars data frame from R with two of its rows removed to get linearly separable data.)\n",
    "  (I used df = pd.read_csv('http://www.stat.wisc.edu/~jgillett/451/01/mtcars30.csv', index_col=0).)\n",
    "- Make an X from the wt (weight in 1000s of pounds) and mpg (miles per gallon) columns. Make y from the am column (where 0=automatic\n",
    "  or 1=manual transmission).\n",
    "- Train an SVM using kernel='linear' and C=1000. Print its coefficients and intercept.\n",
    "- Report the training accuracy. (It's given by clf.score(X, y).)\n",
    "- Predict the transmission for a car weighing 4000 pounds (wt=4) that gets 20 mpg.\n",
    "- Use five plt.plot() calls to make a figure with wt on its x-axis and mpg on its y-axis including:\n",
    "  - the automatic transmission cars in red\n",
    "  - the manual transmission cars in blue\n",
    "  - the decision boundary (the center line of the road)\n",
    "  - the lower margin boundary (the left side of the road)\n",
    "  - the upper margin boundary (the right side of the road)\n",
    "  - a reasonable title, axis labels, and legend"
   ]
  },
  {
   "cell_type": "code",
   "execution_count": 59,
   "id": "f4e137dd",
   "metadata": {},
   "outputs": [
    {
     "name": "stderr",
     "output_type": "stream",
     "text": [
      "/Users/karaconrad/opt/anaconda3/lib/python3.9/site-packages/sklearn/utils/validation.py:993: DataConversionWarning: A column-vector y was passed when a 1d array was expected. Please change the shape of y to (n_samples, ), for example using ravel().\n",
      "  y = column_or_1d(y, warn=True)\n",
      "/Users/karaconrad/opt/anaconda3/lib/python3.9/site-packages/sklearn/base.py:450: UserWarning: X does not have valid feature names, but SVC was fitted with feature names\n",
      "  warnings.warn(\n"
     ]
    },
    {
     "name": "stdout",
     "output_type": "stream",
     "text": [
      "Coefficients for wt & mpg respectively:[[-8.24431115 -0.30922192]]. The intercept:[32.01974189]\n",
      "The training accuracy:1.0\n",
      "The predicted transmission for a car of 4k lbs and 20 mpg is 0 (automatic)\n"
     ]
    },
    {
     "data": {
      "image/png": "[encoded data removed]",
      "text/plain": [
       "<Figure size 432x288 with 1 Axes>"
      ]
     },
     "metadata": {
      "needs_background": "light"
     },
     "output_type": "display_data"
    }
   ],
   "source": [
    "df = pd.read_csv('http://www.stat.wisc.edu/~jgillett/451/01/mtcars30.csv', index_col=0)\n",
    "\n",
    "X = df[['wt', 'mpg']]\n",
    "Y = df[['am']]\n",
    "\n",
    "clf = svm.SVC(kernel='linear', C=1000)\n",
    "clf.fit(X, Y)\n",
    "print(f'Coefficients for wt & mpg respectively:{clf.coef_}. The intercept:{clf.intercept_}')\n",
    "\n",
    "print(f'The training accuracy:{ clf.score(X, Y) }')\n",
    "\n",
    "clf.predict([[4, 20]])\n",
    "print(\"The predicted transmission for a car of 4k lbs and 20 mpg is 0 (automatic)\")\n",
    "\n",
    "plt.scatter(X.wt[Y.am==0], X.mpg[Y.am==0], color='red', label='automatic')\n",
    "plt.scatter(X.wt[Y.am==1], X.mpg[Y.am==1], color='blue', label='manual')\n",
    "x2_y = -(clf.coef_[0][0]* X.wt + clf.intercept_) / clf.coef_[0][1]\n",
    "plt.plot(X.wt, x2_y, label=r'decision boundary $\\mathbf{wx} + b = 0$')\n",
    "plt.plot(X.wt,x2_y +1/clf.coef_[0][1], linestyle='dotted', label=r'+1 support $\\mathbf{wx} + b =  1$' )\n",
    "plt.plot(X.wt,x2_y -1/clf.coef_[0][1], linestyle='dotted', label=r'+1 support $\\mathbf{wx} + b =  -1$' )\n",
    "plt.legend()\n",
    "plt.xlabel('wt')\n",
    "plt.ylabel('mpg')\n",
    "plt.title('SVM to guess transmission from car weight & mileage')\n",
    "plt.ylim([0, 35])\n",
    "plt.show()"
   ]
  },
  {
   "cell_type": "markdown",
   "id": "6bffdb35",
   "metadata": {},
   "source": [
    "# 2. Make three linear regression models.\n"
   ]
  },
  {
   "cell_type": "markdown",
   "id": "a0ab39c6",
   "metadata": {},
   "source": [
    "## 2a: Make a simple regression model by hand.\n",
    "Use the matrix formula $w = (X^T X)^{-1} X^T y$ we developed in class to fit these three points:\n",
    "(0, 5), (2, 1), (4, 3). (Use linear_model.linearRegression(), if you wish, to check your work.)"
   ]
  },
  {
   "cell_type": "code",
   "execution_count": 85,
   "id": "d97ff1d2",
   "metadata": {},
   "outputs": [
    {
     "name": "stdout",
     "output_type": "stream",
     "text": [
      "intercept=4.0, slope=-0.5\n"
     ]
    },
    {
     "data": {
      "text/plain": [
       "[<matplotlib.lines.Line2D at 0x7f7eab78c5b0>]"
      ]
     },
     "execution_count": 85,
     "metadata": {},
     "output_type": "execute_result"
    },
    {
     "data": {
      "image/png": "[encoded data removed]",
      "text/plain": [
       "<Figure size 432x288 with 1 Axes>"
      ]
     },
     "metadata": {
      "needs_background": "light"
     },
     "output_type": "display_data"
    }
   ],
   "source": [
    "X = [[1,0], [1,2], [1,4]]\n",
    "just_x=np.array([0,2,4])\n",
    "y = [5, 1, 3]\n",
    "\n",
    "XT_X = (np.array(X).T).dot(np.array(X))\n",
    "w= (np.linalg.inv(XT_X)).dot(np.array(X).T).dot(y)\n",
    "\n",
    "print(f'intercept={w[0]}, slope={w[1]}')\n",
    "\n",
    "plt.scatter(just_x, y)\n",
    "plt.plot(just_x, (w[1]*just_x + w[0]))"
   ]
  },
  {
   "cell_type": "markdown",
   "id": "8df4591c",
   "metadata": {},
   "source": [
    "## 2b: Make a simple linear regression model from real data.\n",
    "Estimate the average daily trading volume of a Dow Jones Industrial Average stock from its market capitalization. That is, use $y = $ AvgVol vs. $x =$ MarketCap.\n",
    "- Read [http://www.stat.wisc.edu/~jgillett/451/data/DJIA.csv](http://www.stat.wisc.edu/~jgillett/451/data/DJIA.csv) into a DataFrame.\n",
    "  (I used df = pd.read_csv('http://www.stat.wisc.edu/~jgillett/451/data/DJIA.csv', index_col='Symbol').)\n",
    "- Find the model. Print its equation.\n",
    "- Print its $R^2$ value (the proportion of variability in $y$ accounted for by $x$ via the linear model, given by model.score(X, y)).\n",
    "- Make a plot of the data and model line.\n",
    "- Use the model to predict the volume for a company with market capitalization of 0.25e12 (a quarter-trillion dollars); add this as a red point on your plot.\n",
    "- Say what happens to Volume as Market Capitalization increases. (Use a Markdown cell.)"
   ]
  },
  {
   "cell_type": "code",
   "execution_count": 131,
   "id": "bbcae099",
   "metadata": {},
   "outputs": [
    {
     "name": "stdout",
     "output_type": "stream",
     "text": [
      "The equation is: Volume = [2.67584249e-05]*Market Capitalization + 3408894.873\n",
      "The model's R^2 value is 0.705.\n"
     ]
    },
    {
     "data": {
      "image/png": "[encoded data removed]",
      "text/plain": [
       "<Figure size 432x288 with 1 Axes>"
      ]
     },
     "metadata": {
      "needs_background": "light"
     },
     "output_type": "display_data"
    },
    {
     "name": "stdout",
     "output_type": "stream",
     "text": [
      "The model predicts a volume of 1.01e+07 with a Market Capitalization of 0.25e12.\n"
     ]
    },
    {
     "name": "stderr",
     "output_type": "stream",
     "text": [
      "/Users/karaconrad/opt/anaconda3/lib/python3.9/site-packages/sklearn/base.py:450: UserWarning: X does not have valid feature names, but LinearRegression was fitted with feature names\n",
      "  warnings.warn(\n",
      "/Users/karaconrad/opt/anaconda3/lib/python3.9/site-packages/sklearn/base.py:566: FutureWarning: Arrays of bytes/strings is being converted to decimal numbers if dtype='numeric'. This behavior is deprecated in 0.24 and will be removed in 1.1 (renaming of 0.26). Please convert your data to numeric values explicitly instead.\n",
      "  X = check_array(X, **check_params)\n"
     ]
    }
   ],
   "source": [
    "df = pd.read_csv('http://www.stat.wisc.edu/~jgillett/451/data/DJIA.csv', index_col=0)\n",
    "\n",
    "X = df[['MarketCap']]\n",
    "Y = df[['AvgVol']]\n",
    "model = linear_model.LinearRegression()\n",
    "model.fit(X, Y)\n",
    "print(f'The equation is: Volume = {model.coef_[0]}*Market Capitalization + {np.round(model.intercept_[0],3)}')\n",
    "\n",
    "print(f'The model\\'s R^2 value is {np.round(model.score(X, Y),3)}.')\n",
    "\n",
    "plt.scatter(X,Y)\n",
    "plt.plot(X.MarketCap, model.coef_[0]*X.MarketCap + model.intercept_)\n",
    "plt.title(\"DJIA: Volume vs. Capitalization\")\n",
    "plt.ylabel(\"Average Daily Trading Volume\")\n",
    "plt.xlabel(\"Market Capitalization\")\n",
    "plt.show()\n",
    "\n",
    "pred = model.predict([[\"{:.9f}\".format(0.25e12)]])\n",
    "print(f'The model predicts a volume of {\"{:.2e}\".format(pred[0][0])} with a Market Capitalization of 0.25e12.') "
   ]
  },
  {
   "cell_type": "markdown",
   "id": "c6d6d5f5",
   "metadata": {},
   "source": [
    "What happens to Volume as Market Capitalization increases is that the Volume also increases. Although the slope value is very small, there is a positive correlation between the 2 measurements."
   ]
  },
  {
   "cell_type": "markdown",
   "id": "983ff726",
   "metadata": {},
   "source": [
    "## 2c Make a multiple regression model.\n",
    "Estimate the same volume from both market capitalization and price. That is, use $y =$ AvgVol vs. $x_1 =$ MarketCap and $x_2 =$ Price.\n",
    "- Find the model.\n",
    "- Print its equation.\n",
    "- Print its $R^2$ value.\n",
    "- Say what happens to Volume as Market Capitalization increases and what happens to Volume as Price increases (while holding the other variable fixed). (Use a Markdown cell.)"
   ]
  },
  {
   "cell_type": "code",
   "execution_count": 130,
   "id": "b7c73d9a",
   "metadata": {},
   "outputs": [
    {
     "name": "stdout",
     "output_type": "stream",
     "text": [
      "The equation is: Volume = 2.8930749430540465e-05*Market Capitalization + -66935.347*Price + 14425755.696\n",
      "The model's R^2 value is 0.823.\n"
     ]
    }
   ],
   "source": [
    "X = df[['MarketCap', 'Price']]\n",
    "y = df[['AvgVol']]\n",
    "model = linear_model.LinearRegression()\n",
    "model.fit(X, y)\n",
    "print(f'The equation is: Volume = {model.coef_[0][0]}*Market Capitalization + {np.round(model.coef_[0][1],3)}*Price + {np.round(model.intercept_[0],3)}')\n",
    "\n",
    "print(f'The model\\'s R^2 value is {np.round(model.score(X, y),3)}.')"
   ]
  },
  {
   "cell_type": "markdown",
   "id": "8b41fadf",
   "metadata": {},
   "source": [
    "What happens to Volume as Market Capitalization increases is that it will slowly affect the Volume by a positive increase. While as Price increases, there is a much more drastic effect on the Volume that is negative (makes the Volume decrease)."
   ]
  }
 ],
 "metadata": {
  "celltoolbar": "Tags",
  "kernelspec": {
   "display_name": "Python 3 (ipykernel)",
   "language": "python",
   "name": "python3"
  },
  "language_info": {
   "codemirror_mode": {
    "name": "ipython",
    "version": 3
   },
   "file_extension": ".py",
   "mimetype": "text/x-python",
   "name": "python",
   "nbconvert_exporter": "python",
   "pygments_lexer": "ipython3",
   "version": "3.9.12"
  }
 },
 "nbformat": 4,
 "nbformat_minor": 5
}
