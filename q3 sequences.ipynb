{
 "cells": [
  {
   "cell_type": "markdown",
   "id": "31120ce2",
   "metadata": {},
   "source": [
    "## Quiz 3"
   ]
  },
  {
   "cell_type": "code",
   "execution_count": 2,
   "id": "88c1836e",
   "metadata": {},
   "outputs": [
    {
     "data": {
      "text/plain": [
       "'Python'"
      ]
     },
     "execution_count": 2,
     "metadata": {},
     "output_type": "execute_result"
    }
   ],
   "source": [
    "s = 'Learn Python in STAT 451'\n",
    "t = s[6:12]\n",
    "t"
   ]
  },
  {
   "cell_type": "code",
   "execution_count": 8,
   "id": "59084ca1",
   "metadata": {},
   "outputs": [
    {
     "data": {
      "text/plain": [
       "'Learn machine learning in STAT 451'"
      ]
     },
     "execution_count": 8,
     "metadata": {},
     "output_type": "execute_result"
    }
   ],
   "source": [
    "s = 'Learn Python in STAT 451'\n",
    "t = s[:6] + \"machine learning\" + s[12:]\n",
    "t"
   ]
  },
  {
   "cell_type": "code",
   "execution_count": 19,
   "id": "d907186b",
   "metadata": {},
   "outputs": [
    {
     "data": {
      "text/plain": [
       "'Learn  machine learning in STAT 451'"
      ]
     },
     "execution_count": 19,
     "metadata": {},
     "output_type": "execute_result"
    }
   ],
   "source": [
    "s.index(\"Python\")\n",
    "t = s[:s.index(\"Python\")] + \"machine learning\" + s[s.index(\"Python\")+6:]\n",
    "t"
   ]
  },
  {
   "cell_type": "code",
   "execution_count": null,
   "id": "b9c52bf4",
   "metadata": {},
   "outputs": [],
   "source": [
    "print(f'x={x}, y={y}, z={z}')"
   ]
  },
  {
   "cell_type": "code",
   "execution_count": 20,
   "id": "af18f2b5",
   "metadata": {},
   "outputs": [
    {
     "data": {
      "text/plain": [
       "tuple"
      ]
     },
     "execution_count": 20,
     "metadata": {},
     "output_type": "execute_result"
    }
   ],
   "source": [
    "t = ('Anna', 3, ('July', 2017))\n",
    "type(t)"
   ]
  },
  {
   "cell_type": "code",
   "execution_count": 23,
   "id": "8b1f68e3",
   "metadata": {},
   "outputs": [
    {
     "data": {
      "text/plain": [
       "6"
      ]
     },
     "execution_count": 23,
     "metadata": {},
     "output_type": "execute_result"
    }
   ],
   "source": [
    "x =[6,7,3,6,5,8]\n",
    "len(x)"
   ]
  },
  {
   "cell_type": "code",
   "execution_count": 24,
   "id": "310c1ba1",
   "metadata": {},
   "outputs": [
    {
     "data": {
      "text/plain": [
       "35"
      ]
     },
     "execution_count": 24,
     "metadata": {},
     "output_type": "execute_result"
    }
   ],
   "source": [
    "x_sum=0\n",
    "for i in x:\n",
    "    x_sum+=i\n",
    "x_sum"
   ]
  },
  {
   "cell_type": "code",
   "execution_count": 27,
   "id": "615a283e",
   "metadata": {},
   "outputs": [],
   "source": [
    "x_bar = x_sum/6"
   ]
  },
  {
   "cell_type": "code",
   "execution_count": 29,
   "id": "2edb3b7b",
   "metadata": {},
   "outputs": [
    {
     "data": {
      "text/plain": [
       "14.833333333333336"
      ]
     },
     "execution_count": 29,
     "metadata": {},
     "output_type": "execute_result"
    }
   ],
   "source": [
    "ssd_x = 0\n",
    "for i in x:\n",
    "    ssd_x += (i-x_bar)**2\n",
    "ssd_x"
   ]
  },
  {
   "cell_type": "code",
   "execution_count": 31,
   "id": "16b15706",
   "metadata": {},
   "outputs": [
    {
     "data": {
      "text/plain": [
       "2.9666666666666672"
      ]
     },
     "execution_count": 31,
     "metadata": {},
     "output_type": "execute_result"
    }
   ],
   "source": [
    "var_x = ssd_x/(6-1)\n",
    "var_x"
   ]
  },
  {
   "cell_type": "code",
   "execution_count": null,
   "id": "b12d5854",
   "metadata": {},
   "outputs": [],
   "source": []
  }
 ],
 "metadata": {
  "kernelspec": {
   "display_name": "Python 3 (ipykernel)",
   "language": "python",
   "name": "python3"
  },
  "language_info": {
   "codemirror_mode": {
    "name": "ipython",
    "version": 3
   },
   "file_extension": ".py",
   "mimetype": "text/x-python",
   "name": "python",
   "nbconvert_exporter": "python",
   "pygments_lexer": "ipython3",
   "version": "3.9.12"
  }
 },
 "nbformat": 4,
 "nbformat_minor": 5
}
