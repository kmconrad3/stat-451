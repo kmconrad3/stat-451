{
 "cells": [
  {
   "cell_type": "code",
   "execution_count": 18,
   "id": "c24ce46a",
   "metadata": {},
   "outputs": [
    {
     "data": {
      "text/plain": [
       "\"letter is not in the array containing 'a', 'e', 'i', 'o', and 'u'.\""
      ]
     },
     "execution_count": 18,
     "metadata": {},
     "output_type": "execute_result"
    }
   ],
   "source": [
    "def is_lower_vowel(letter):\n",
    "    if letter in [\"e\", \"i\", \"o\", \"u\", \"a\"]:\n",
    "        return True\n",
    "    else:\n",
    "        return False #\"letter is not in the array containing 'a', 'e', 'i', 'o', and 'u'.\"\n",
    "    \n",
    "    #\"letter is in the array containing 'a', 'e', 'i', 'o', and 'u'.\"\n",
    "is_lower_vowel(\"v\")"
   ]
  },
  {
   "cell_type": "code",
   "execution_count": null,
   "id": "ab610262",
   "metadata": {},
   "outputs": [],
   "source": [
    "def baby_min(x, y):\n",
    "    if x > y:\n",
    "        return y\n",
    "    else:\n",
    "        return x"
   ]
  },
  {
   "cell_type": "code",
   "execution_count": 21,
   "id": "eab25c03",
   "metadata": {},
   "outputs": [
    {
     "data": {
      "text/plain": [
       "'senior'"
      ]
     },
     "execution_count": 21,
     "metadata": {},
     "output_type": "execute_result"
    }
   ],
   "source": [
    "def age_category(age):\n",
    "    if age<15:\n",
    "        return \"child\"\n",
    "    elif age<25:\n",
    "        return \"youth\"\n",
    "    elif age<64:\n",
    "        return \"adult\"\n",
    "    else:\n",
    "        return \"senior\"\n",
    "    \"\"\"Given age, returns 'child', 'youth', 'adult' or 'senior'.\n",
    "\n",
    "    More precisely, given a nonnegative integer age, returns a string,\n",
    "    one of 'child' (0-14 years), 'youth' (15-24 years), 'adult' (25-64 years),\n",
    "    or 'senior' (65 or older).\n",
    "    \"\"\"\n",
    "    \n",
    "age_category(99)"
   ]
  },
  {
   "cell_type": "code",
   "execution_count": 32,
   "id": "d3ac32c6",
   "metadata": {},
   "outputs": [
    {
     "data": {
      "text/plain": [
       "False"
      ]
     },
     "execution_count": 32,
     "metadata": {},
     "output_type": "execute_result"
    }
   ],
   "source": [
    "def is_triangle(a, b, c):\n",
    "    if ((a>0) and (b>0) and (c>0)) and ((a+b>c) and (a+c>b) and (b+c>a)):\n",
    "        return True\n",
    "    else:\n",
    "        return False\n",
    "    \n",
    "    \"\"\"Returns whether lengths a, b, and c can form a triangle.\n",
    "   \n",
    "    More specifically, returns whether a, b, and c are positive\n",
    "    with the sum of any two greater than the third.\"\"\"\n",
    "    \n",
    "is_triangle(2, 0, 8)"
   ]
  },
  {
   "cell_type": "code",
   "execution_count": null,
   "id": "dbc00f83",
   "metadata": {},
   "outputs": [],
   "source": []
  },
  {
   "cell_type": "code",
   "execution_count": null,
   "id": "1e3044ca",
   "metadata": {},
   "outputs": [],
   "source": []
  }
 ],
 "metadata": {
  "kernelspec": {
   "display_name": "Python 3 (ipykernel)",
   "language": "python",
   "name": "python3"
  },
  "language_info": {
   "codemirror_mode": {
    "name": "ipython",
    "version": 3
   },
   "file_extension": ".py",
   "mimetype": "text/x-python",
   "name": "python",
   "nbconvert_exporter": "python",
   "pygments_lexer": "ipython3",
   "version": "3.9.12"
  }
 },
 "nbformat": 4,
 "nbformat_minor": 5
}
